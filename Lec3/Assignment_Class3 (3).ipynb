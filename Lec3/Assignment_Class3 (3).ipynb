{
 "cells": [
  {
   "cell_type": "markdown",
   "metadata": {
    "id": "eZnDGb6VF9jT"
   },
   "source": [
    "**Implement a to-do list application where users can add,\n",
    "remove, and view tasks**"
   ]
  },
  {
   "cell_type": "code",
   "metadata": {
    "colab": {
     "base_uri": "https://localhost:8080/"
    },
    "id": "8GfRrZGfGDZe",
    "outputId": "94ac249a-6e1d-480e-c5e1-daab9fdc1462",
    "ExecuteTime": {
     "end_time": "2025-02-09T15:26:38.201827Z",
     "start_time": "2025-02-09T15:26:38.187944Z"
    }
   },
   "source": [
    "tasks = []\n",
    "def add_task(task):\n",
    "    tasks.append(task)\n",
    "def remove_task(task):\n",
    "  if task in tasks:\n",
    "    tasks.remove(task)\n",
    "def view_tasks():\n",
    "  for task in tasks:\n",
    "    print(task)\n",
    "add_task(\"Finish homework\")\n",
    "add_task(\"Buy groceries\")\n",
    "view_tasks()\n",
    "remove_task(\"Buy groceries\")\n",
    "view_tasks()"
   ],
   "outputs": [
    {
     "name": "stdout",
     "output_type": "stream",
     "text": [
      "Finish homework\n",
      "Buy groceries\n",
      "Finish homework\n"
     ]
    }
   ],
   "execution_count": 2
  },
  {
   "cell_type": "markdown",
   "metadata": {
    "id": "AXGFTnUOHFHn"
   },
   "source": [
    "**Find Maximum and Minimum Values in a List**"
   ]
  },
  {
   "cell_type": "code",
   "metadata": {
    "colab": {
     "base_uri": "https://localhost:8080/"
    },
    "id": "ZM05PE-zHJK9",
    "outputId": "f87b0ab5-e846-4495-a982-914799298ed5",
    "ExecuteTime": {
     "end_time": "2025-02-09T15:26:38.389800Z",
     "start_time": "2025-02-09T15:26:38.352059Z"
    }
   },
   "source": [
    "def find_max_min(list):\n",
    "  max_val=list[0]\n",
    "  min_val=list[0]\n",
    "  for num in list:\n",
    "    if num>max_val:\n",
    "      max_val=num\n",
    "    if num<min_val:\n",
    "      min_val=num;\n",
    "  return max_val,min_val\n",
    "numbers = [3, 9, 2, 8, 1]\n",
    "max_val, min_val = find_max_min(numbers)\n",
    "print(f\"Max:{max_val}, Min:{min_val}\")"
   ],
   "outputs": [
    {
     "name": "stdout",
     "output_type": "stream",
     "text": [
      "Max:9, Min:1\n"
     ]
    }
   ],
   "execution_count": 3
  },
  {
   "cell_type": "markdown",
   "metadata": {
    "id": "fqK9NPkMH2nC"
   },
   "source": [
    "**Create a Simple Phonebook Using Dictionaries**"
   ]
  },
  {
   "cell_type": "code",
   "metadata": {
    "colab": {
     "base_uri": "https://localhost:8080/"
    },
    "id": "0mpFxHzyH4zu",
    "outputId": "4816411a-1252-4489-aa7a-e828fd6b30a0",
    "ExecuteTime": {
     "end_time": "2025-02-09T15:26:39.524164Z",
     "start_time": "2025-02-09T15:26:39.506457Z"
    }
   },
   "source": [
    "phoneBook={}\n",
    "def add_contact(name,number):\n",
    "  phoneBook[name]=number\n",
    "def get_number(name):\n",
    "  return phoneBook.get(name,\"Contact does not exist\")\n",
    "add_contact(\"Alice\", \"1234567890\")\n",
    "add_contact(\"Bob\", \"9876543210\")\n",
    "print(get_number(\"Alice\"))"
   ],
   "outputs": [
    {
     "name": "stdout",
     "output_type": "stream",
     "text": [
      "1234567890\n"
     ]
    }
   ],
   "execution_count": 4
  },
  {
   "cell_type": "markdown",
   "metadata": {
    "id": "x3aPr4ZrIUkQ"
   },
   "source": [
    "**Inventory System (Using Dictionaries)**"
   ]
  },
  {
   "cell_type": "code",
   "metadata": {
    "colab": {
     "base_uri": "https://localhost:8080/"
    },
    "id": "yJCtyW0iIasN",
    "outputId": "19e02e12-1d51-4532-9d39-8e089363ee9b",
    "ExecuteTime": {
     "end_time": "2025-02-09T15:26:39.583281Z",
     "start_time": "2025-02-09T15:26:39.569096Z"
    }
   },
   "source": [
    "inventory={}\n",
    "def add_item(item,quantity):\n",
    "  if item in inventory:\n",
    "    inventory[item]+=quantity\n",
    "  else:\n",
    "    inventory[item]=quantity\n",
    "def remove_item(item,quantity):\n",
    "  if item in inventory and inventory[item]>=quantity:\n",
    "    inventory[item]-=quantity\n",
    "    if inventory[item]==0:\n",
    "      del inventory[item]\n",
    "  else:\n",
    "    print(f\"Insufficient quantity of {item}.\")\n",
    "def view_inventory():\n",
    "  for item,quantity in inventory.items():\n",
    "    print(f\"{item}: {quantity}\")\n",
    "add_item(\"Apple\", 10)\n",
    "add_item(\"Banana\", 5)\n",
    "remove_item(\"Apple\", 3)\n",
    "view_inventory()"
   ],
   "outputs": [
    {
     "name": "stdout",
     "output_type": "stream",
     "text": [
      "Apple: 7\n",
      "Banana: 5\n"
     ]
    }
   ],
   "execution_count": 5
  },
  {
   "cell_type": "markdown",
   "metadata": {
    "id": "8AAqVDc9J8dd"
   },
   "source": [
    "**ATM System Simulation with Global Variables**"
   ]
  },
  {
   "cell_type": "code",
   "metadata": {
    "colab": {
     "base_uri": "https://localhost:8080/"
    },
    "id": "8I-5dDQUI3YO",
    "outputId": "9b289dfa-d976-4ccf-808b-4beada6d2ace",
    "ExecuteTime": {
     "end_time": "2025-02-09T15:26:39.741026Z",
     "start_time": "2025-02-09T15:26:39.729369Z"
    }
   },
   "source": [
    "def deposit(balance,amount):\n",
    "  balance+=amount\n",
    "  print(f\"Deposited: {amount}. New balance: {balance}\")\n",
    "  return balance\n",
    "def withdraw(balance,amount):\n",
    "  if amount<=balance:\n",
    "    balance-=amount\n",
    "    print(f\"Withdrew: {amount}. New balance: {balance}\")\n",
    "  else:\n",
    "    print(\"Insufficient funds\")\n",
    "  return balance\n",
    "def check_bal(balance):\n",
    "  print(f\"Current balance: {balance}\")\n",
    "balance = 1000\n",
    "\n",
    "balance = deposit(balance, 500)\n",
    "balance = withdraw(balance, 200)\n",
    "check_bal(balance)"
   ],
   "outputs": [
    {
     "name": "stdout",
     "output_type": "stream",
     "text": [
      "Deposited: 500. New balance: 1500\n",
      "Withdrew: 200. New balance: 1300\n",
      "Current balance: 1300\n"
     ]
    }
   ],
   "execution_count": 6
  }
 ],
 "metadata": {
  "colab": {
   "provenance": []
  },
  "kernelspec": {
   "display_name": "Python 3 (ipykernel)",
   "name": "python3",
   "language": "python"
  },
  "language_info": {
   "codemirror_mode": {
    "name": "ipython",
    "version": 3
   },
   "file_extension": ".py",
   "mimetype": "text/x-python",
   "name": "python",
   "nbconvert_exporter": "python",
   "pygments_lexer": "ipython3",
   "version": "3.12.3"
  }
 },
 "nbformat": 4,
 "nbformat_minor": 0
}
