{
  "nbformat": 4,
  "nbformat_minor": 0,
  "metadata": {
    "colab": {
      "provenance": []
    },
    "kernelspec": {
      "name": "python3",
      "display_name": "Python 3"
    },
    "language_info": {
      "name": "python"
    }
  },
  "cells": [
    {
      "cell_type": "markdown",
      "source": [
        "**Implement a to-do list application where users can add,\n",
        "remove, and view tasks**"
      ],
      "metadata": {
        "id": "eZnDGb6VF9jT"
      }
    },
    {
      "cell_type": "code",
      "source": [
        "tasks = []\n",
        "def add_task(task):\n",
        "    tasks.append(task)\n",
        "def remove_task(task):\n",
        "  if task in tasks:\n",
        "    tasks.remove(task)\n",
        "def view_tasks():\n",
        "  for task in tasks:\n",
        "    print(task)\n",
        "add_task(\"Finish homework\")\n",
        "add_task(\"Buy groceries\")\n",
        "view_tasks()\n",
        "remove_task(\"Buy groceries\")\n",
        "view_tasks()"
      ],
      "metadata": {
        "colab": {
          "base_uri": "https://localhost:8080/"
        },
        "id": "8GfRrZGfGDZe",
        "outputId": "94ac249a-6e1d-480e-c5e1-daab9fdc1462"
      },
      "execution_count": 15,
      "outputs": [
        {
          "output_type": "stream",
          "name": "stdout",
          "text": [
            "Finish homework\n",
            "Buy groceries\n",
            "Finish homework\n"
          ]
        }
      ]
    },
    {
      "cell_type": "markdown",
      "source": [
        "**Find Maximum and Minimum Values in a List**"
      ],
      "metadata": {
        "id": "AXGFTnUOHFHn"
      }
    },
    {
      "cell_type": "code",
      "source": [
        "def find_max_min(list):\n",
        "  max_val=list[0]\n",
        "  min_val=list[0]\n",
        "  for num in list:\n",
        "    if num>max_val:\n",
        "      max_val=num\n",
        "    if num<min_val:\n",
        "      min_val=num;\n",
        "  return max_val,min_val\n",
        "numbers = [3, 9, 2, 8, 1]\n",
        "max_val, min_val = find_max_min(numbers)\n",
        "print(f\"Max: {max_val}, Min: {min_val}\")"
      ],
      "metadata": {
        "colab": {
          "base_uri": "https://localhost:8080/"
        },
        "id": "ZM05PE-zHJK9",
        "outputId": "f87b0ab5-e846-4495-a982-914799298ed5"
      },
      "execution_count": 16,
      "outputs": [
        {
          "output_type": "stream",
          "name": "stdout",
          "text": [
            "Max: 9, Min: 1\n"
          ]
        }
      ]
    },
    {
      "cell_type": "markdown",
      "source": [
        "**Create a Simple Phonebook Using Dictionaries**"
      ],
      "metadata": {
        "id": "fqK9NPkMH2nC"
      }
    },
    {
      "cell_type": "code",
      "source": [
        "phoneBook={}\n",
        "def add_contact(name,number):\n",
        "  phoneBook[name]=number\n",
        "def get_number(name):\n",
        "  return phoneBook.get(name,\"Contact does not exist\")\n",
        "add_contact(\"Alice\", \"1234567890\")\n",
        "add_contact(\"Bob\", \"9876543210\")\n",
        "print(get_number(\"Alice\"))"
      ],
      "metadata": {
        "colab": {
          "base_uri": "https://localhost:8080/"
        },
        "id": "0mpFxHzyH4zu",
        "outputId": "4816411a-1252-4489-aa7a-e828fd6b30a0"
      },
      "execution_count": 17,
      "outputs": [
        {
          "output_type": "stream",
          "name": "stdout",
          "text": [
            "1234567890\n"
          ]
        }
      ]
    },
    {
      "cell_type": "markdown",
      "source": [
        "**Inventory System (Using Dictionaries)**"
      ],
      "metadata": {
        "id": "x3aPr4ZrIUkQ"
      }
    },
    {
      "cell_type": "code",
      "source": [
        "inventory={}\n",
        "def add_item(item,quantity):\n",
        "  if item in inventory:\n",
        "    inventory[item]+=quantity\n",
        "  else:\n",
        "    inventory[item]=quantity\n",
        "def remove_item(item,quantity):\n",
        "  if item in inventory and inventory[item]>=quantity:\n",
        "    inventory[item]-=quantity\n",
        "    if inventory[item]==0:\n",
        "      del inventory[item]\n",
        "  else:\n",
        "    print(f\"Insufficient quantity of {item}.\")\n",
        "def view_inventory():\n",
        "  for item,quantity in inventory.items():\n",
        "    print(f\"{item}: {quantity}\")\n",
        "add_item(\"Apple\", 10)\n",
        "add_item(\"Banana\", 5)\n",
        "remove_item(\"Apple\", 3)\n",
        "view_inventory()"
      ],
      "metadata": {
        "colab": {
          "base_uri": "https://localhost:8080/"
        },
        "id": "yJCtyW0iIasN",
        "outputId": "19e02e12-1d51-4532-9d39-8e089363ee9b"
      },
      "execution_count": 18,
      "outputs": [
        {
          "output_type": "stream",
          "name": "stdout",
          "text": [
            "Apple: 7\n",
            "Banana: 5\n"
          ]
        }
      ]
    },
    {
      "cell_type": "markdown",
      "source": [
        "**ATM System Simulation with Global Variables**"
      ],
      "metadata": {
        "id": "8AAqVDc9J8dd"
      }
    },
    {
      "cell_type": "code",
      "source": [
        "def deposit(balance,amount):\n",
        "  balance+=amount\n",
        "  print(f\"Deposited: {amount}. New balance: {balance}\")\n",
        "  return balance\n",
        "def withdraw(balance,amount):\n",
        "  if amount<=balance:\n",
        "    balance-=amount\n",
        "    print(f\"Withdrew: {amount}. New balance: {balance}\")\n",
        "  else:\n",
        "    print(\"Insufficient funds\")\n",
        "  return balance\n",
        "def check_bal(balance):\n",
        "  print(f\"Current balance: {balance}\")\n",
        "balance = 1000\n",
        "\n",
        "balance = deposit(balance, 500)\n",
        "balance = withdraw(balance, 200)\n",
        "check_bal(balance)"
      ],
      "metadata": {
        "colab": {
          "base_uri": "https://localhost:8080/"
        },
        "id": "8I-5dDQUI3YO",
        "outputId": "9b289dfa-d976-4ccf-808b-4beada6d2ace"
      },
      "execution_count": 19,
      "outputs": [
        {
          "output_type": "stream",
          "name": "stdout",
          "text": [
            "Deposited: 500. New balance: 1500\n",
            "Withdrew: 200. New balance: 1300\n",
            "Current balance: 1300\n"
          ]
        }
      ]
    }
  ]
}