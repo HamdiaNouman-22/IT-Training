{
  "nbformat": 4,
  "nbformat_minor": 0,
  "metadata": {
    "colab": {
      "provenance": []
    },
    "kernelspec": {
      "name": "python3",
      "display_name": "Python 3"
    },
    "language_info": {
      "name": "python"
    }
  },
  "cells": [
    {
      "cell_type": "code",
      "execution_count": null,
      "metadata": {
        "colab": {
          "base_uri": "https://localhost:8080/"
        },
        "id": "uKfLhBYM3Tz6",
        "outputId": "05e07d33-7f0f-4891-d4dd-d0900f98d43f"
      },
      "outputs": [
        {
          "output_type": "stream",
          "name": "stdout",
          "text": [
            "you are not eligible to vote\n"
          ]
        }
      ],
      "source": [
        "age=16\n",
        "if age<18:\n",
        "  print(\"you are not eligible to vote\")"
      ]
    },
    {
      "cell_type": "code",
      "source": [
        "num=10\n",
        "if num%2==0:\n",
        "  print(\"even no\")\n",
        "else:\n",
        "  print(\"odd no\")"
      ],
      "metadata": {
        "colab": {
          "base_uri": "https://localhost:8080/"
        },
        "id": "EUcZQvDv3aGo",
        "outputId": "cb44428b-3df9-4cab-b071-d8f72cabb33b"
      },
      "execution_count": null,
      "outputs": [
        {
          "output_type": "stream",
          "name": "stdout",
          "text": [
            "even no\n"
          ]
        }
      ]
    },
    {
      "cell_type": "code",
      "source": [
        "marks=80\n",
        "if marks>=90:\n",
        "  print(\"Grade A+\")\n",
        "elif marks>=80:\n",
        "  print(\"Grade A\")\n",
        "elif marks>=70:\n",
        "  print(\"Grade B\")\n",
        "elif marks<=50:\n",
        "  print(\"Grade F\")\n",
        "else:\n",
        "  print(\"Grade C\")"
      ],
      "metadata": {
        "colab": {
          "base_uri": "https://localhost:8080/"
        },
        "id": "Qh-FvtbG3o1r",
        "outputId": "8160f9a6-7e9f-4282-e4e3-fa543c514f9c"
      },
      "execution_count": null,
      "outputs": [
        {
          "output_type": "stream",
          "name": "stdout",
          "text": [
            "Grade A\n"
          ]
        }
      ]
    },
    {
      "cell_type": "code",
      "source": [
        "is_adult=True\n",
        "has_id=True\n",
        "if is_adult and has_id:\n",
        "  print(\"you can vote\")\n",
        "else:\n",
        "  print(\"you cannot vote\")"
      ],
      "metadata": {
        "id": "kFfk1pw24fRR"
      },
      "execution_count": null,
      "outputs": []
    },
    {
      "cell_type": "code",
      "source": [
        "age=20\n",
        "print(\"Adult\" if age>=18 else \"Minor\")"
      ],
      "metadata": {
        "colab": {
          "base_uri": "https://localhost:8080/"
        },
        "id": "EGi5cXeu43y-",
        "outputId": "d45c76bd-c2c0-4617-e341-66b5b5f3ea16"
      },
      "execution_count": null,
      "outputs": [
        {
          "output_type": "stream",
          "name": "stdout",
          "text": [
            "Adult\n"
          ]
        }
      ]
    },
    {
      "cell_type": "code",
      "source": [
        "color=\"green\"\n",
        "match color:\n",
        "  case \"red\":\n",
        "    print(\"stop\")\n",
        "  case \"yellow\":\n",
        "    print(\"slow\")\n",
        "  case \"green\":\n",
        "    print(\"go\")\n",
        "  case _:\n",
        "    print(\"invalid color\")\n"
      ],
      "metadata": {
        "colab": {
          "base_uri": "https://localhost:8080/"
        },
        "id": "KWHCnLb15fc-",
        "outputId": "73853982-a185-478f-926d-ebea78020f21"
      },
      "execution_count": null,
      "outputs": [
        {
          "output_type": "stream",
          "name": "stdout",
          "text": [
            "go\n"
          ]
        }
      ]
    },
    {
      "cell_type": "code",
      "source": [
        "fruits=[\"apple\",\"banana\",\"cherry\"]\n",
        "for fruit in fruits:\n",
        "  print(fruit)\n",
        "\n",
        "string=\"programming\"\n",
        "for char in string:\n",
        "  print(char)"
      ],
      "metadata": {
        "colab": {
          "base_uri": "https://localhost:8080/"
        },
        "id": "uplpT1OY6JEn",
        "outputId": "79f9f082-900e-4db9-ce15-eb8e61884f23"
      },
      "execution_count": null,
      "outputs": [
        {
          "output_type": "stream",
          "name": "stdout",
          "text": [
            "apple\n",
            "banana\n",
            "cherry\n",
            "p\n",
            "r\n",
            "o\n",
            "g\n",
            "r\n",
            "a\n",
            "m\n",
            "m\n",
            "i\n",
            "n\n",
            "g\n"
          ]
        }
      ]
    },
    {
      "cell_type": "code",
      "source": [
        "people={\"Alice\":20,\"John\":19,\"Sam\":23}\n",
        "for key,value in people.items():\n",
        "  print(key,value)"
      ],
      "metadata": {
        "colab": {
          "base_uri": "https://localhost:8080/"
        },
        "id": "G4s_Ohx66mHN",
        "outputId": "e2145372-55d9-41f5-8251-9c714dcdbc47"
      },
      "execution_count": null,
      "outputs": [
        {
          "output_type": "stream",
          "name": "stdout",
          "text": [
            "Alice 20\n",
            "John 19\n",
            "Sam 23\n"
          ]
        }
      ]
    },
    {
      "cell_type": "code",
      "source": [
        "for i in range(3):\n",
        "  print(i)"
      ],
      "metadata": {
        "colab": {
          "base_uri": "https://localhost:8080/"
        },
        "id": "hYLhEqkJ7jdn",
        "outputId": "e7890ed8-0217-4e00-fcc8-a861610a8ff5"
      },
      "execution_count": null,
      "outputs": [
        {
          "output_type": "stream",
          "name": "stdout",
          "text": [
            "0\n",
            "1\n",
            "2\n"
          ]
        }
      ]
    },
    {
      "cell_type": "code",
      "source": [
        "for i in range(1,8,2): #start,stop,step\n",
        "  print(i)"
      ],
      "metadata": {
        "colab": {
          "base_uri": "https://localhost:8080/"
        },
        "id": "O8RC6fcw7t6C",
        "outputId": "1117f020-3920-4723-8371-d67da2a118ac"
      },
      "execution_count": null,
      "outputs": [
        {
          "output_type": "stream",
          "name": "stdout",
          "text": [
            "1\n",
            "3\n",
            "5\n",
            "7\n"
          ]
        }
      ]
    },
    {
      "cell_type": "code",
      "source": [
        "while True:\n",
        "  quit=input(\"Enter quit to break loop \")\n",
        "  if quit==\"quit\":\n",
        "    break"
      ],
      "metadata": {
        "colab": {
          "base_uri": "https://localhost:8080/"
        },
        "id": "kitb0ZbL82hx",
        "outputId": "8f0e4670-37d7-406f-ec11-c87001d9f5bf"
      },
      "execution_count": null,
      "outputs": [
        {
          "name": "stdout",
          "output_type": "stream",
          "text": [
            "Enter quit to break loop ssss\n",
            "Enter quit to break loop quit\n"
          ]
        }
      ]
    },
    {
      "cell_type": "code",
      "source": [
        "for i in range(10):\n",
        "  if(i==9):\n",
        "    break;\n",
        "  if(i%2==0):\n",
        "    continue:\n"
      ],
      "metadata": {
        "id": "OakH_vww9J8U"
      },
      "execution_count": null,
      "outputs": []
    },
    {
      "cell_type": "code",
      "source": [
        "for i in range(3):\n",
        "  for j in range(2):\n",
        "    print(f\"{i} , {j}\")"
      ],
      "metadata": {
        "colab": {
          "base_uri": "https://localhost:8080/"
        },
        "id": "L0TNurXS-kZm",
        "outputId": "9a1e7a0d-9f50-4155-f9ee-3208c78f3c2c"
      },
      "execution_count": null,
      "outputs": [
        {
          "output_type": "stream",
          "name": "stdout",
          "text": [
            "0 , 0\n",
            "0 , 1\n",
            "1 , 0\n",
            "1 , 1\n",
            "2 , 0\n",
            "2 , 1\n"
          ]
        }
      ]
    },
    {
      "cell_type": "code",
      "source": [
        "nums=[1,2,3,4,5]\n",
        "search=7\n",
        "for num in nums:\n",
        "  if num==search:\n",
        "    print(\"found\")\n",
        "    break\n",
        "else:\n",
        "  print(\"not found\")"
      ],
      "metadata": {
        "colab": {
          "base_uri": "https://localhost:8080/"
        },
        "id": "HxhUxJ0RANsj",
        "outputId": "1737501a-b61b-4061-e916-ac3482b3f9ce"
      },
      "execution_count": null,
      "outputs": [
        {
          "output_type": "stream",
          "name": "stdout",
          "text": [
            "not found\n"
          ]
        }
      ]
    },
    {
      "cell_type": "code",
      "source": [
        "def print_args(*args): # when we dont know no of arguments being passed\n",
        "  for arg in args:\n",
        "    print(arg)\n",
        "print_args(1,2,3)\n",
        "print_args('a','b','c')"
      ],
      "metadata": {
        "colab": {
          "base_uri": "https://localhost:8080/"
        },
        "id": "Wyn95FPtDDyp",
        "outputId": "3fad1b21-24ec-4da2-a3c9-13ddb2734796"
      },
      "execution_count": null,
      "outputs": [
        {
          "output_type": "stream",
          "name": "stdout",
          "text": [
            "1\n",
            "2\n",
            "3\n",
            "a\n",
            "b\n",
            "c\n"
          ]
        }
      ]
    },
    {
      "cell_type": "code",
      "source": [
        "def print_kwargs(**kwargs):\n",
        "  for key,value in kwargs.items():\n",
        "    print(f\"{key}:{value}\")\n",
        "print_kwargs(name=\"Alice\",age=20)"
      ],
      "metadata": {
        "colab": {
          "base_uri": "https://localhost:8080/"
        },
        "id": "1Jo037LmDa6C",
        "outputId": "fc58f57d-40f1-4221-9bc8-f6aa452a8b9b"
      },
      "execution_count": null,
      "outputs": [
        {
          "output_type": "stream",
          "name": "stdout",
          "text": [
            "name:Alice\n",
            "age:20\n"
          ]
        }
      ]
    },
    {
      "cell_type": "code",
      "source": [
        "sq=lambda x:x**2\n",
        "print(sq(5))"
      ],
      "metadata": {
        "colab": {
          "base_uri": "https://localhost:8080/"
        },
        "id": "0fTsn4jFETbv",
        "outputId": "c98a6de2-c702-4098-e3a0-e5ed8880522a"
      },
      "execution_count": null,
      "outputs": [
        {
          "output_type": "stream",
          "name": "stdout",
          "text": [
            "25\n"
          ]
        }
      ]
    }
  ]
}