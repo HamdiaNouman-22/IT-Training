{
  "nbformat": 4,
  "nbformat_minor": 0,
  "metadata": {
    "colab": {
      "provenance": []
    },
    "kernelspec": {
      "name": "python3",
      "display_name": "Python 3"
    },
    "language_info": {
      "name": "python"
    }
  },
  "cells": [
    {
      "cell_type": "code",
      "execution_count": null,
      "metadata": {
        "id": "2o5cvg2c2jc6"
      },
      "outputs": [],
      "source": [
        "#this is our first python comment"
      ]
    },
    {
      "cell_type": "code",
      "source": [
        "if True:\n",
        "  print(\"This is indented correctly\")"
      ],
      "metadata": {
        "colab": {
          "base_uri": "https://localhost:8080/"
        },
        "id": "cPn_aId33fxc",
        "outputId": "a0604806-91bd-494e-d548-9e9176b0552b"
      },
      "execution_count": null,
      "outputs": [
        {
          "output_type": "stream",
          "name": "stdout",
          "text": [
            "This is indented correctly\n"
          ]
        }
      ]
    },
    {
      "cell_type": "code",
      "source": [
        "#if True:\n",
        "#print(\"This is indented correctly\")"
      ],
      "metadata": {
        "colab": {
          "base_uri": "https://localhost:8080/",
          "height": 106
        },
        "id": "UA9GeRY43rjo",
        "outputId": "8fd9b1e0-0ae3-4518-eaa0-2da31ef568df"
      },
      "execution_count": null,
      "outputs": [
        {
          "output_type": "error",
          "ename": "IndentationError",
          "evalue": "expected an indented block after 'if' statement on line 1 (<ipython-input-3-4b082c6557a9>, line 2)",
          "traceback": [
            "\u001b[0;36m  File \u001b[0;32m\"<ipython-input-3-4b082c6557a9>\"\u001b[0;36m, line \u001b[0;32m2\u001b[0m\n\u001b[0;31m    print(\"This is indented correctly\")\u001b[0m\n\u001b[0m    ^\u001b[0m\n\u001b[0;31mIndentationError\u001b[0m\u001b[0;31m:\u001b[0m expected an indented block after 'if' statement on line 1\n"
          ]
        }
      ]
    },
    {
      "cell_type": "code",
      "source": [
        "name=\"Hamdia\"\n",
        "age=20\n",
        "pi=3.14\n",
        "print(\"name: \",name)\n",
        "print(\"age: \",age)\n",
        "print(\"pi: \",pi)\n"
      ],
      "metadata": {
        "colab": {
          "base_uri": "https://localhost:8080/"
        },
        "id": "iSIN_tVc4Dyb",
        "outputId": "9451038f-3a5e-4030-f761-b64843f3f12f"
      },
      "execution_count": null,
      "outputs": [
        {
          "output_type": "stream",
          "name": "stdout",
          "text": [
            "name:  Hamdia\n",
            "age:  20\n",
            "pi:  3.14\n"
          ]
        }
      ]
    },
    {
      "cell_type": "code",
      "source": [
        "name=input(\"enter name : \")\n",
        "age=int(input(\"enter age : \"))\n",
        "print(name,age)"
      ],
      "metadata": {
        "colab": {
          "base_uri": "https://localhost:8080/"
        },
        "id": "NfQDqWFP43a7",
        "outputId": "a1a0d7ed-0234-4def-c281-58b20aaa30ed"
      },
      "execution_count": null,
      "outputs": [
        {
          "output_type": "stream",
          "name": "stdout",
          "text": [
            "enter name : hamdia\n",
            "enter age : 20\n",
            "hamdia 20\n"
          ]
        }
      ]
    },
    {
      "cell_type": "code",
      "source": [
        "z=2+3j\n",
        "print(z.real,z.imag)"
      ],
      "metadata": {
        "colab": {
          "base_uri": "https://localhost:8080/"
        },
        "id": "D0Qo9-fZ5p_O",
        "outputId": "73bbba5e-7ba1-4f8f-fab2-9dfcc724ec3a"
      },
      "execution_count": null,
      "outputs": [
        {
          "output_type": "stream",
          "name": "stdout",
          "text": [
            "2.0 3.0\n"
          ]
        }
      ]
    },
    {
      "cell_type": "code",
      "source": [
        "msg = \"Hello World!\"\n",
        "repeat = \"Python\" * 10\n",
        "print(repeat)\n",
        "replace = msg.replace(\"Hello\",\"Hi\")\n",
        "print(replace)\n",
        "print(msg[0])\n",
        "print(msg[0:5])\n",
        "print(msg[6:])"
      ],
      "metadata": {
        "colab": {
          "base_uri": "https://localhost:8080/"
        },
        "id": "DsAYjmQDVC-1",
        "outputId": "ff41123a-857d-4eb3-977d-64e4ee10164a"
      },
      "execution_count": 2,
      "outputs": [
        {
          "output_type": "stream",
          "name": "stdout",
          "text": [
            "PythonPythonPythonPythonPythonPythonPythonPythonPythonPython\n",
            "Hi World!\n",
            "H\n",
            "Hello\n",
            "World!\n"
          ]
        }
      ]
    },
    {
      "cell_type": "code",
      "source": [
        "temp = [1,2,3,4,5]\n",
        "print(temp)\n",
        "temp.append(6)\n",
        "print(temp)\n",
        "print(temp[0:3])"
      ],
      "metadata": {
        "colab": {
          "base_uri": "https://localhost:8080/"
        },
        "id": "rPIALENsVL4c",
        "outputId": "394e99e5-0c2c-4af2-ad43-aed36dfaba94"
      },
      "execution_count": 3,
      "outputs": [
        {
          "output_type": "stream",
          "name": "stdout",
          "text": [
            "[1, 2, 3, 4, 5]\n",
            "[1, 2, 3, 4, 5, 6]\n",
            "[1, 2, 3]\n"
          ]
        }
      ]
    },
    {
      "cell_type": "code",
      "source": [
        "tup= (1,2,3,4,5)\n",
        "print(tup)"
      ],
      "metadata": {
        "colab": {
          "base_uri": "https://localhost:8080/"
        },
        "id": "vtK2OSLKVlTn",
        "outputId": "040e338e-34bb-4d0b-ab9e-d3bae86b7d4a"
      },
      "execution_count": 4,
      "outputs": [
        {
          "output_type": "stream",
          "name": "stdout",
          "text": [
            "(1, 2, 3, 4, 5)\n"
          ]
        }
      ]
    },
    {
      "cell_type": "code",
      "source": [
        "num_set = {1,2,3,4,5}\n",
        "num_set.add(6)\n",
        "print(num_set)\n",
        "num_set.add(6)\n",
        "print(num_set)"
      ],
      "metadata": {
        "colab": {
          "base_uri": "https://localhost:8080/"
        },
        "id": "mn8HecjwVuZ8",
        "outputId": "3833be48-e540-4c8e-dec3-c5929bc8d1b5"
      },
      "execution_count": 6,
      "outputs": [
        {
          "output_type": "stream",
          "name": "stdout",
          "text": [
            "{1, 2, 3, 4, 5, 6}\n",
            "{1, 2, 3, 4, 5, 6}\n"
          ]
        }
      ]
    },
    {
      "cell_type": "code",
      "source": [
        "dictionary = {\"name\": \"Hamdia\"}\n",
        "\n",
        "dictionary['name'] = \"xyz\"\n",
        "print(dictionary)"
      ],
      "metadata": {
        "colab": {
          "base_uri": "https://localhost:8080/"
        },
        "id": "SbdRY1Q9WLEg",
        "outputId": "98f143f4-5cf1-4228-c162-27232aa2b9e9"
      },
      "execution_count": 8,
      "outputs": [
        {
          "output_type": "stream",
          "name": "stdout",
          "text": [
            "{'name': 'xyz'}\n"
          ]
        }
      ]
    },
    {
      "cell_type": "code",
      "source": [
        "num1 = 10\n",
        "num2= 10.01\n",
        "result= num1+num2\n",
        "print (result)\n",
        "print(type(result))"
      ],
      "metadata": {
        "colab": {
          "base_uri": "https://localhost:8080/"
        },
        "id": "78L-Ngi1WdLa",
        "outputId": "295c906f-fc9d-47c9-9d04-30ddc2d2d5ab"
      },
      "execution_count": 9,
      "outputs": [
        {
          "output_type": "stream",
          "name": "stdout",
          "text": [
            "20.009999999999998\n",
            "<class 'float'>\n"
          ]
        }
      ]
    },
    {
      "cell_type": "code",
      "source": [
        "age = \"20\"\n",
        "print(type(age))\n",
        "integer = 10\n",
        "age = int(age)\n",
        "result= age+integer\n",
        "print(result)"
      ],
      "metadata": {
        "colab": {
          "base_uri": "https://localhost:8080/"
        },
        "id": "yDVijRqSWlBc",
        "outputId": "d170389a-321e-4263-8609-a8c786d87e2c"
      },
      "execution_count": 10,
      "outputs": [
        {
          "output_type": "stream",
          "name": "stdout",
          "text": [
            "<class 'str'>\n",
            "30\n"
          ]
        }
      ]
    },
    {
      "cell_type": "code",
      "source": [
        "print(\"Floor Div:\",10//3)\n",
        "print(\"Mod:\",5%2)\n",
        "print(\"Exponent:\",2**3)"
      ],
      "metadata": {
        "colab": {
          "base_uri": "https://localhost:8080/"
        },
        "id": "nRXDOdOzWpHg",
        "outputId": "da0100e8-7cee-47eb-cf74-b7f5958bce9e"
      },
      "execution_count": 11,
      "outputs": [
        {
          "output_type": "stream",
          "name": "stdout",
          "text": [
            "Floor Div: 3\n",
            "Mod: 1\n",
            "Exponent: 8\n"
          ]
        }
      ]
    },
    {
      "cell_type": "code",
      "source": [
        "p = True\n",
        "q= False\n",
        "\n",
        "print(\"AND\", p and q)\n",
        "print(\"OR\", p or q)\n",
        "print(\"NOT\", not p)"
      ],
      "metadata": {
        "colab": {
          "base_uri": "https://localhost:8080/"
        },
        "id": "1siH3IVfWzKR",
        "outputId": "20b0a8ad-5db2-44c4-b7fc-4ddadb233b5f"
      },
      "execution_count": 12,
      "outputs": [
        {
          "output_type": "stream",
          "name": "stdout",
          "text": [
            "AND False\n",
            "OR True\n",
            "NOT False\n"
          ]
        }
      ]
    },
    {
      "cell_type": "code",
      "source": [
        "a=10\n",
        "print(a)\n",
        "a+=5\n",
        "print(a)\n",
        "a-=5\n",
        "print(a)\n",
        "a*=5\n",
        "print(a)\n",
        "a/=5\n",
        "print(a)"
      ],
      "metadata": {
        "colab": {
          "base_uri": "https://localhost:8080/"
        },
        "id": "0tCRiwIWXOzA",
        "outputId": "66624974-35c5-4255-c059-9e918142dcaf"
      },
      "execution_count": 14,
      "outputs": [
        {
          "output_type": "stream",
          "name": "stdout",
          "text": [
            "10\n",
            "15\n",
            "10\n",
            "50\n",
            "10.0\n"
          ]
        }
      ]
    },
    {
      "cell_type": "code",
      "source": [
        "sentence = \"a random sentence\"\n",
        "print(len(sentence))"
      ],
      "metadata": {
        "colab": {
          "base_uri": "https://localhost:8080/"
        },
        "id": "cx4siELIXY7u",
        "outputId": "03b13cdd-5435-4b52-980c-42d5df98f16c"
      },
      "execution_count": 15,
      "outputs": [
        {
          "output_type": "stream",
          "name": "stdout",
          "text": [
            "17\n"
          ]
        }
      ]
    },
    {
      "cell_type": "code",
      "source": [
        "sentence = \"a random sentence\"\n",
        "tokens = sentence.split(\" \")\n",
        "print(tokens)"
      ],
      "metadata": {
        "colab": {
          "base_uri": "https://localhost:8080/"
        },
        "id": "BVYE4KtuXeux",
        "outputId": "0d325b87-a669-4a33-f217-21e9b6db7644"
      },
      "execution_count": 16,
      "outputs": [
        {
          "output_type": "stream",
          "name": "stdout",
          "text": [
            "['a', 'random', 'sentence']\n"
          ]
        }
      ]
    },
    {
      "cell_type": "code",
      "source": [
        "import random\n",
        "no = random.randint(1,10)\n",
        "print(number)\n",
        "print(random.random())\n",
        "items = [\"apple\", \"banana\", \"orange\"]\n",
        "random.shuffle(items)\n",
        "print(items)\n",
        "print(random.choice(items))"
      ],
      "metadata": {
        "colab": {
          "base_uri": "https://localhost:8080/"
        },
        "id": "aWZ2MY3AX4dp",
        "outputId": "662753db-3695-459e-c3c1-0884246c9b26"
      },
      "execution_count": 18,
      "outputs": [
        {
          "output_type": "stream",
          "name": "stdout",
          "text": [
            "5\n",
            "0.23555116451957203\n",
            "['apple', 'banana', 'orange']\n",
            "banana\n"
          ]
        }
      ]
    }
  ]
}